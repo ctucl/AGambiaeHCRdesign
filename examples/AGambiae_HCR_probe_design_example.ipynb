{
 "cells": [
  {
   "cell_type": "markdown",
   "id": "59a6b6af",
   "metadata": {},
   "source": [
    "Import essential functions from the hcr probe designer module."
   ]
  },
  {
   "cell_type": "code",
   "execution_count": 2,
   "id": "24d39125",
   "metadata": {},
   "outputs": [],
   "source": [
    "from AGambiaeHCRdesign import read_fasta, create_oligos, blast_oligos, filter_and_rank, add_hairpin"
   ]
  },
  {
   "cell_type": "markdown",
   "id": "4134373a",
   "metadata": {},
   "source": [
    "Next, read a FASTA file containing the sequence of the transcript for which HCR probes need to be designed. The file should be in a .fasta or .faa format."
   ]
  },
  {
   "cell_type": "code",
   "execution_count": null,
   "id": "8fbd09c0",
   "metadata": {},
   "outputs": [
    {
     "name": "stdout",
     "output_type": "stream",
     "text": [
      "Transcript ID:  AGAP004691.R436\n",
      "Transcript Description:  AGAP004691.R436 | gene=AGAP004691 | organism=Anopheles_gambiae_PEST | gene_product=LIM domain-binding protein 1 | transcript_product=LIM domain-binding protein 1 | location=AgamP4_2L:1272628-1290444(-) | length=4854 | sequence_SO=chromosome | SO=protein_coding_gene | is_pseudo=false\n",
      "Transcript Sequence:  AAACGTCCTAGTGTTGACCATATGTGTTCTCTGTGTGTTTCAATGACATATATTGTCTGAACCTTTTTCAAAATGGCTGCCAGTGTTGAAAAAAATTGATGGCGTCTATGTTGGCAAGTCCGCTGTGAGTAAAATTGTAATAATGATAATATGTGAAAATATCATTTGAAACATCCGTGAATGACCATATTTGTACGAATTAATGTTAAATGTGTAATTTAGCGATATTGAGCTATTAGAGGATCAAGCCTCTATATCGGTTCACAGTTCGATAAAAGTTCACGGAGTTTTTGTGATAGTGAAGCGTATGCTTGTTGGCTTCAAAAGAGGTGGGGAGTTTTAGATGTTCGACTAGCTGTTTAACGAACTAGTGATAAAAAGATACAAATCAGTTTAAAGATAAAATAATTGTGACAATTTGAATCGTGTAGAGAATCAATGCTACATGCTGTTATTAAAACCAATAGTACTCCAATAGCCGTTTAGACGTGTGCCGTTTACCGTTTGGTTGTGCTGTGTTGTAAAGGTACGGAGCAGGCTGGCGTACCGCACACGGTGCGGTTGCGCACTTCTAGGATCTAACATTCTTCCTTAGTAGTTGCAATTTTGGAATATGATAGGTTTAAGTCGACGTGGAGTTAGTGCAGGACCGTCACTGAGTTTACCGTCTACACTGGAGGACTCTACAAACAATTGGAAAGGAACACCTTCGGGACCAACCGACCCTTCGCAGCAAGGTGCGGGTCCTGGAGGAACTGGAGTCGGCCCTGGAGTTGCTGGTAATGGTGGTCCAGGTGGCCCCAGTGGTCCAGGGGTCCAAGGACCCGGTGTGAACAGTTTTGGTGGTCCTGGTGGAGCTAACAATTTTGGAGGTCCTGTGTTTCCAGCAGCCGGTCAAGGTTCTCCAGCCGGAGGATCTGCTTCGAATAGTTATCAAAATTTACCACCAGGCACTGGTTCAAATACGCCACAGTATACAGCATCCCCCGCACCTTCAGGGTCGTCCACACCAGGACCTGGTCCTCCACAGAATGTTGGTTCCGGGTTTCCTCCCCCAAATACTGGTGGGCCATCGGGGCCAGGAGGACCATACAACGGCCCTGTCGGAGGTGGCCCTGTAGCAGTAGGTCCATTTAGTTCTCCATCTGCTAATGGGCCTCAGTTTGGACGGCCAGGAAGTTCCGGATCTGCCTTCGGAAGCGGGCCACATTTTACATCACCTAGTGGGCCAGGAAATTTTGGTGGTCCTCAATTTGGCATACCTCCAGGTTCTCCTTTTGGCCATGGTCCAAATGGTTCGAATATGGGTGGTCCGATGGGACAAGGACATTTGATGGGAGGTCCACAACCTGTTGATCGATTGGATCAAAGTCAATTGAACGTTCCCAGAAGGCATGCGTATTTCGGTCAACCAGATTATAGAATCTATGAACTCAACAAACGATTACAGCAAAGAACTGAAGAAAGTGATAATTGTTGGTGGGATTCGTTTGCGAATGAGTTTTTCGAAGATGACGCCACATTGACTTTAACATTTTGCTTGGAAGATGGACCAAAAAGATACACTATAGGACGCACATTAATCCCAAGATATTTTCGAAGTATCTTCGAAGGCGGCGTAACTGAGTTGTACTTTAATTTGCGACATTCAAAAGAATCGTTTCATAATACTTCGATTACTCTGGATTGTGATCAATGCACTATGGAAACACTCCACGGAAAACCTATGTACACTAAGGTACTCACTGAAGGAAGACTTATTCTGGAATTTACGTTTGATGATTTGATGCGGATAAAATCTTGGCACATGGCAGTTCGAACCCATCGAGAATTGATACCCCGATCAGTAATTGCTCTCCACAGTCCTCAACCAGATCCTGCAATGCTTGAACAGATGTCGAAGAACATTACTAGACAAGGAATCACCAATTCAACATTAAATTATCTGCGCTTGTGTGTGATACTGGAACCAATGCAGGAGTTGATGTCTAGACATAAAGCATATGCACTAAGCCCCCGGGATTGCCTGAAAACGACATTGTTCCAAAAATGGCAACGGATGGTCGCACCGCCGGATGCTCAACGTCCAGCAAATAAGAGACGAAAACGTAAAGGTTCTAGCTCTGGTGCTGGAGCTGGGAACACCGGGCCCCAAGTTCCCAGCAAGAAGCGATCACCGGGCCCAAATTTTTCTCTGGCGTCTCAGGTAGATGTCATGGTGGTGGGTGAACCATCTCTTATGGGAGGTGAGTTTGGGGATGAAGATGAACGATTGATCACTAGGCTTGAAAACACGCAATACGACGCTTCGAACAATCTTGAGCACGATGGTCATAATGCATTTAGCGGCGGCAGCGGAGGTGGAGGCGGCCACAATGATGGAGGTCCAATGAGCGGAGGACCTACTTCATGGCAGGTGGATCGAGGAGGCGGCGGAAGTACAGTAAACAACGCCGGTTCAGGTGGTCCGGAGGGCGGTAAAAAGAGTCCTTCCGTTTCTCAGTGACAAATGTAAAATCCAATGCACTCAACTCTACAAATTTTCGTGGCGTACAGCGTGCGATTGATTTTGCATGTGCATTGGTTCATCACTGCAGCAATTCTCAAACTTTGCAAGAGTAAGTAAATAAGTAGGAAAATGAATATCTGCTGCTTCTCAATAGAGTTCAGGAAATCAACAAAAATTCTATATTTCCTCAACGAGAGTAAATCTAGCAAAGGGAACAAGAGCATGAGCTAATGGCTTACTAACTGGAGGTACACAATTACTGACGAATGAAATTTTGATGTCAACGATGTTTTTTTTTTCAACAAGTATGTTATTAGTCGCGGTCAGCTTCGCAGTTTTTGTTTGTTATTCCTCATTAATTATCTACATTAATTTAATGCAACATAATTTGGATTATATCACTCGACACGTTTTCTTCTGGATATGCAGCTATGGTGCAATAGAATTATTTGCTCTCTTTCTAAGAGTGAAAAAAATTAGGCTTCAAATTGTTCAGGAAAGTTGAAGAGATTGTGAAAGCTTCTGCCGCGTTACCAAACTTTTACTTTAATATATTCTTTTTTCGCAGTACAGCTCGACAAATTTAGCAAATCGTGTACGGTCGATTGCGTCTACATATTATCGTGTATTATCACTGAATTAATGATGTGTGATGCAAAGAAAGGAAAATAAATCAGGAATTGCCGTCTTAATTGTTTTATAATAGCCTATTATTAATTACGATACATAAAGAACACAGACGAACTCAGATAGGTTATTGATCATTACTGTGAAGAACATTTGAGTGTGTTCAACAGAAAAAAGATAGCTAGCGTATAGGTGCAGCTATCTACACTCTACCGAAATGTTTTACTTCTAGTGCAAGTAAATCTCTCTAGCACAAGAAACAATGGTGGGTCACTACCCTACTCTTAGAGAGATAAAGTTAGAAAAGTATATACATAATGTGAATAAAAAACTGCTAATTGTGTAATTTCAACTAATAATAATTTAATTGATAATGGATAGAATAAGTAACGTTCTTACAAAAAAGGATGTTTGAATAGAAATATCTTATTTGTGCATTCTGTCTCACTCTATCTGCATCTTTTTTGAGCTTCTAGTATATTCATAACTGTCGATTTGTCTTCTTTAATTTTAGTTTTTTTAAAATACAGTATCATAGTTGTGCATAAACAGAACCATATTAATTTGTGCTCATGTACGCATACCGCTGGGATACGAATAACAAGCAAATAATTAAATTTGTGTCTACTGTAACCATTTGTTATTCATATAAAAACTGATATTTTTGCAATCAATTTGGTACGCCTAATTTTCCTTGAATTAAATGATTTATAGAAATTGGCTATACTATTTTATACAATTTGGTTAATTTAAAAACACGTGGGTCGTCATATGCACATTTGACGCACTATACACAATTGATGCTGTGGAAAAATATTAGACCCAGACATTTGAAACTATTTGTATAAATAAAAATCTGCTTAGGGGGAAAGTGTACGCTCGGAAATTAGCACTTGATTGAAAGCAGATTATGGAATGTTGTATTGATGTGTTATTTTACATCATTTTTTGAGCGTTTTATTAGTTGATTATTATATTTCATACATACGCACGTTTTACATTAAATGCCAATATTATAAAAAATAGAGAGGGATTTATCATTGTACCATATTTCACCACTTTTGATCGAAGCTGTGTTTCATCTCACCAATTTAGTTGTCAAAAGAGCGAATTAAAAAGTTGCGGACTATCGAGCGTGCACTTAGTTTCAAAACCTTTGTCACACACAAATGAACTACTATAACGCATCTCACATGCAGTTGTCTTATTGAGTAGATTGTAAATAGTTTTTAAATGCATTAAATGAAAAAAAAAAATGGAATTAAAGATATCTGATCCGATAATGGCTGGAAAACTGTCGCTAATTTATTTCCATACTCTAACATAGCTGGAGACATCACTCTAATGGCATGTATAATAAGCAAAAGGGAGGTGTATATACGTGAAGAAATATCCCATGAGATAACGAGCTAGATCCAAACAATTCATCTTTTTTTTTATATTGCCATGGTATTTTACCTGGAATTAGATTTCATACTGAAACATGCAAAGATCAATCTCAAATTGGAAATTTTCTTGTAAAATTGATTGAATAACCTTGTCCATTATGAAATCATCTAATGGAAATCTATTCTTATTCTGAGTAATCAAAGGATCTAATGATCGAAAATCAATCGTTGAAAATAGATGGTGCGAATAAATAAAAAAATGTGTTAAGTAACATAACTCAAGATGCTTTCGGAACTATTAATGAATTTTACGATTGAGAACTCAAGGTA\n"
     ]
    }
   ],
   "source": [
    "ID, desc, sequence = read_fasta(\"test_gene.fasta\")"
   ]
  },
  {
   "cell_type": "markdown",
   "id": "1006a5ed",
   "metadata": {},
   "source": [
    "Now, the transcript sequence will be tiled into oligos (25 bases in length). \n",
    "\n",
    "Optional: You can also adjust the gap between oligos (2 bases by default), and frame start position (0 i.e. beginning of the transcript by default)"
   ]
  },
  {
   "cell_type": "code",
   "execution_count": 4,
   "id": "379e93a5",
   "metadata": {},
   "outputs": [
    {
     "name": "stdout",
     "output_type": "stream",
     "text": [
      "Oligos tiled along the transcript sequence: \n",
      "\n",
      "[Seq('ACATATGGTCAACACTAGGACGTTT'), Seq('TATATGTCATTGAAACACACAGAGA'), Seq('CAGCCATTTTGAAAAAGGTTCAGAC'), Seq('GACGCCATCAATTTTTTTCAACACT'), Seq('TTTACTCACAGCGGACTTGCCAACA'), Seq('ATTTTCACATATTATCATTATTACA'), Seq('TGGTCATTCACGGATGTTTCAAATG'), Seq('CACATTTAACATTAATTCGTACAAA'), Seq('CTCTAATAGCTCAATATCGCTAAAT'), Seq('ACTGTGAACCGATATAGAGGCTTGA'), Seq('CACAAAAACTCCGTGAACTTTTATC'), Seq('GAAGCCAACAAGCATACGCTTCACT'), Seq('GAACATCTAAAACTCCCCACCTCTT'), Seq('TATCACTAGTTCGTTAAACAGCTAG'), Seq('TTATCTTTAAACTGATTTGTATCTT'), Seq('TACACGATTCAAATTGTCACAATTA'), Seq('TAATAACAGCATGTAGCATTGATTC'), Seq('AAACGGCTATTGGAGTACTATTGGT'), Seq('CAACCAAACGGTAAACGGCACACGT'), Seq('CCTGCTCCGTACCTTTACAACACAG'), Seq('GCAACCGCACCGTGTGCGGTACGCC'), Seq('AGGAAGAATGTTAGATCCTAGAAGT'), Seq('TATCATATTCCAAAATTGCAACTAC'), Seq('TGCACTAACTCCACGTCGACTTAAA'), Seq('TGTAGACGGTAAACTCAGTGACGGT'), Seq('TTTCCAATTGTTTGTAGAGTCCTCC'), Seq('AGGGTCGGTTGGTCCCGAAGGTGTT'), Seq('TCCTCCAGGACCCGCACCTTGCTGC'), Seq('ACCAGCAACTCCAGGGCCGACTCCA'), Seq('ACCACTGGGGCCACCTGGACCACCA'), Seq('GTTCACACCGGGTCCTTGGACCCCT'), Seq('GTTAGCTCCACCAGGACCACCAAAA'), Seq('TGCTGGAAACACAGGACCTCCAAAA'), Seq('TCCTCCGGCTGGAGAACCTTGACCG'), Seq('TAAATTTTGATAACTATTCGAAGCA'), Seq('TGGCGTATTTGAACCAGTGCCTGGT'), Seq('TGAAGGTGCGGGGGATGCTGTATAC'), Seq('AGGACCAGGTCCTGGTGTGGACGAC'), Seq('AGGAAACCCGGAACCAACATTCTGT'), Seq('CCCCGATGGCCCACCAGTATTTGGG'), Seq('GACAGGGCCGTTGTATGGTCCTCCT'), Seq('TGGACCTACTGCTACAGGGCCACCT'), Seq('AGGCCCATTAGCAGATGGAGAACTA'), Seq('TCCGGAACTTCCTGGCCGTCCAAAC'), Seq('AAAATGTGGCCCGCTTCCGAAGGCA'), Seq('AAAATTTCCTGGCCCACTAGGTGAT'), Seq('TGGAGGTATGCCAAATTGAGGACCA'), Seq('ATTTGGACCATGGCCAAAAGGAGAA'), Seq('TCCCATCGGACCACCCATATTCGAA'), Seq('TTGTGGACCTCCCATCAAATGTCCT'), Seq('TTGACTTTGATCCAATCGATCAACA'), Seq('ATACGCATGCCTTCTGGGAACGTTC'), Seq('ATAGATTCTATAATCTGGTTGACCG'), Seq('TCTTTGCTGTAATCGTTTGTTGAGT'), Seq('CCACCAACAATTATCACTTTCTTCA'), Seq('TTCGAAAAACTCATTCGCAAACGAA'), Seq('AAATGTTAAAGTCAATGTGGCGTCA'), Seq('GTATCTTTTTGGTCCATCTTCCAAG'), Seq('TCTTGGGATTAATGTGCGTCCTATA'), Seq('GCCGCCTTCGAAGATACTTCGAAAA'), Seq('TCGCAAATTAAAGTACAACTCAGTT'), Seq('AGTATTATGAAACGATTCTTTTGAA'), Seq('GCATTGATCACAATCCAGAGTAATC'), Seq('AGGTTTTCCGTGGAGTGTTTCCATA'), Seq('TCCTTCAGTGAGTACCTTAGTGTAC'), Seq('ATCAAACGTAAATTCCAGAATAAGT'), Seq('GTGCCAAGATTTTATCCGCATCAAA'), Seq('CAATTCTCGATGGGTTCGAACTGCC'), Seq('GTGGAGAGCAATTACTGATCGGGGT'), Seq('AAGCATTGCAGGATCTGGTTGAGGA'), Seq('TCTAGTAATGTTCTTCGACATCTGT'), Seq('ATTTAATGTTGAATTGGTGATTCCT'), Seq('TTCCAGTATCACACACAAGCGCAGA'), Seq('ATGTCTAGACATCAACTCCTGCATT'), Seq('ATCCCGGGGGCTTAGTGCATATGCT'), Seq('TTTTTGGAACAATGTCGTTTTCAGG'), Seq('ATCCGGCGGTGCGACCATCCGTTGC'), Seq('TCGTCTCTTATTTGCTGGACGTTGA'), Seq('AGCACCAGAGCTAGAACCTTTACGT'), Seq('AACTTGGGGCCCGGTGTTCCCAGCT'), Seq('TGGGCCCGGTGATCGCTTCTTGCTG'), Seq('ATCTACCTGAGACGCCAGAGAAAAA'), Seq('AAGAGATGGTTCACCCACCACCATG'), Seq('ATCTTCATCCCCAAACTCACCTCCC'), Seq('GTTTTCAAGCCTAGTGATCAATCGT'), Seq('AAGATTGTTCGAAGCGTCGTATTGC'), Seq('GCTAAATGCATTATGACCATCGTGC'), Seq('GTGGCCGCCTCCACCTCCGCTGCCG'), Seq('TCCTCCGCTCATTGGACCTCCATCA'), Seq('TCCTCGATCCACCTGCCATGAAGTA'), Seq('GGCGTTGTTTACTGTACTTCCGCCG'), Seq('TTTACCGCCCTCCGGACCACCTGAA'), Seq('TTGTCACTGAGAAACGGAAGGACTC'), Seq('TAGAGTTGAGTGCATTGGATTTTAC'), Seq('TCGCACGCTGTACGCCACGAAAATT'), Seq('GATGAACCAATGCACATGCAAAATC'), Seq('CTTGCAAAGTTTGAGAATTGCTGCA'), Seq('ATTCATTTTCCTACTTATTTACTTA'), Seq('CCTGAACTCTATTGAGAAGCAGCAG'), Seq('GAGGAAATATAGAATTTTTGTTGAT'), Seq('GTTCCCTTTGCTAGATTTACTCTCG'), Seq('GTTAGTAAGCCATTAGCTCATGCTC'), Seq('TCATTCGTCAGTAATTGTGTACCTC'), Seq('AAAAAAAACATCGTTGACATCAAAA'), Seq('ACCGCGACTAATAACATACTTGTTG'), Seq('GAATAACAAACAAAAACTGCGAAGC'), Seq('ATTAAATTAATGTAGATAATTAATG'), Seq('CGAGTGATATAATCCAAATTATGTT'), Seq('TAGCTGCATATCCAGAAGAAAACGT'), Seq('AAGAGAGCAAATAATTCTATTGCAC'), Seq('TGAAGCCTAATTTTTTTCACTCTTA'), Seq('CAATCTCTTCAACTTTCCTGAACAA'), Seq('AGTTTGGTAACGCGGCAGAAGCTTT'), Seq('TGCGAAAAAAGAATATATTAAAGTA'), Seq('CGATTTGCTAAATTTGTCGAGCTGT'), Seq('TAATATGTAGACGCAATCGACCGTA'), Seq('CATCATTAATTCAGTGATAATACAC'), Seq('GATTTATTTTCCTTTCTTTGCATCA'), Seq('TATAAAACAATTAAGACGGCAATTC'), Seq('TATGTATCGTAATTAATAATAGGCT'), Seq('AACCTATCTGAGTTCGTCTGTGTTC'), Seq('CAAATGTTCTTCACAGTAATGATCA'), Seq('AGCTATCTTTTTTCTGTTGAACACA'), Seq('GAGTGTAGATAGCTGCACCTATACG'), Seq('TTGCACTAGAAGTAAAACATTTCGG'), Seq('ATTGTTTCTTGTGCTAGAGAGATTT'), Seq('TCTCTAAGAGTAGGGTAGTGACCCA'), Seq('TTATGTATATACTTTTCTAACTTTA'), Seq('TACACAATTAGCAGTTTTTTATTCA'), Seq('ATCAATTAAATTATTATTAGTTGAA'), Seq('GTAAGAACGTTACTTATTCTATCCA'), Seq('GATATTTCTATTCAAACATCCTTTT'), Seq('ATAGAGTGAGACAGAATGCACAAAT'), Seq('TATACTAGAAGCTCAAAAAAGATGC'), Seq('TAAAGAAGACAAATCGACAGTTATG'), Seq('GATACTGTATTTTAAAAAAACTAAA'), Seq('AATATGGTTCTGTTTATGCACAACT'), Seq('AGCGGTATGCGTACATGAGCACAAA'), Seq('TAATTATTTGCTTGTTATTCGTATC'), Seq('AACAAATGGTTACAGTAGACACAAA'), Seq('TGCAAAAATATCAGTTTTTATATGA'), Seq('AAGGAAAATTAGGCGTACCAAATTG'), Seq('AGCCAATTTCTATAAATCATTTAAT'), Seq('AATTAACCAAATTGTATAAAATAGT'), Seq('GTGCATATGACGACCCACGTGTTTT'), Seq('GCATCAATTGTGTATAGTGCGTCAA'), Seq('AATGTCTGGGTCTAATATTTTTCCA'), Seq('AGATTTTTATTTATACAAATAGTTT'), Seq('TTCCGAGCGTACACTTTCCCCCTAA'), Seq('ATAATCTGCTTTCAATCAAGTGCTA'), Seq('TAAAATAACACATCAATACAACATT'), Seq('AACTAATAAAACGCTCAAAAAATGA'), Seq('CGTGCGTATGTATGAAATATAATAA'), Seq('TTTATAATATTGGCATTTAATGTAA'), Seq('GGTACAATGATAAATCCCTCTCTAT'), Seq('CAGCTTCGATCAAAAGTGGTGAAAT'), Seq('TGACAACTAAATTGGTGAGATGAAA'), Seq('AGTCCGCAACTTTTTAATTCGCTCT'), Seq('GGTTTTGAAACTAAGTGCACGCTCG'), Seq('TATAGTAGTTCATTTGTGTGTGACA'), Seq('AATAAGACAACTGCATGTGAGATGC'), Seq('CATTTAAAAACTATTTACAATCTAC'), Seq('AATTCCATTTTTTTTTTTCATTTAA'), Seq('CCAGCCATTATCGGATCAGATATCT'), Seq('GTATGGAAATAAATTAGCGACAGTT'), Seq('TAGAGTGATGTCTCCAGCTATGTTA'), Seq('CTCCCTTTTGCTTATTATACATGCC'), Seq('ATGGGATATTTCTTCACGTATATAC'), Seq('AATTGTTTGGATCTAGCTCGTTATC'), Seq('TACCATGGCAATATAAAAAAAAAGA'), Seq('CAGTATGAAATCTAATTCCAGGTAA'), Seq('CAATTTGAGATTGATCTTTGCATGT'), Seq('ATTCAATCAATTTTACAAGAAAATT'), Seq('TTAGATGATTTCATAATGGACAAGG'), Seq('ATTACTCAGAATAAGAATAGATTTC'), Seq('ATTGATTTTCGATCATTAGATCCTT'), Seq('ATTTATTCGCACCATCTATTTTCAA'), Seq('GAGTTATGTTACTTAACACATTTTT')]\n"
     ]
    }
   ],
   "source": [
    "oligos_all = create_oligos(sequence,oligo_length=25)"
   ]
  },
  {
   "cell_type": "markdown",
   "id": "5c394fd2",
   "metadata": {},
   "source": [
    "Next, perform a batch BLAST of each of the oligos against the transcriptome database (AGambie PEST data available here: https://vectorbase.org/vectorbase/app/downloads/Current_Release/AgambiaePEST/fasta/data) and save the BLAST results.\n",
    "\n",
    "Warning: BLAST+ must be installed on the computer and a BLAST database should be built using 'makeblastdb' command on the data downloaded from vector base.\n",
    "This is a pre-requisite for the BLAST function to work."
   ]
  },
  {
   "cell_type": "code",
   "execution_count": null,
   "id": "61f81f21",
   "metadata": {},
   "outputs": [
    {
     "name": "stdout",
     "output_type": "stream",
     "text": [
      "Running batch BLAST on oligos\n",
      "BLAST completed successfully\n"
     ]
    }
   ],
   "source": [
    "blast_result = blast_oligos(oligos_all, \"AGambiaePEST\")"
   ]
  },
  {
   "cell_type": "markdown",
   "id": "c97887fb",
   "metadata": {},
   "source": [
    "View the BLAST results"
   ]
  },
  {
   "cell_type": "code",
   "execution_count": 6,
   "id": "dab80fde",
   "metadata": {},
   "outputs": [
    {
     "data": {
      "text/html": [
       "<div>\n",
       "<style scoped>\n",
       "    .dataframe tbody tr th:only-of-type {\n",
       "        vertical-align: middle;\n",
       "    }\n",
       "\n",
       "    .dataframe tbody tr th {\n",
       "        vertical-align: top;\n",
       "    }\n",
       "\n",
       "    .dataframe thead th {\n",
       "        text-align: right;\n",
       "    }\n",
       "</style>\n",
       "<table border=\"1\" class=\"dataframe\">\n",
       "  <thead>\n",
       "    <tr style=\"text-align: right;\">\n",
       "      <th></th>\n",
       "      <th>qid</th>\n",
       "      <th>sseqid</th>\n",
       "      <th>pident</th>\n",
       "      <th>length</th>\n",
       "      <th>mismatch</th>\n",
       "      <th>gapopen</th>\n",
       "      <th>qstart</th>\n",
       "      <th>qend</th>\n",
       "      <th>sstart</th>\n",
       "      <th>send</th>\n",
       "      <th>evalue</th>\n",
       "      <th>bitscore</th>\n",
       "    </tr>\n",
       "  </thead>\n",
       "  <tbody>\n",
       "    <tr>\n",
       "      <th>0</th>\n",
       "      <td>1</td>\n",
       "      <td>AGAP004691.R437</td>\n",
       "      <td>100.0</td>\n",
       "      <td>25</td>\n",
       "      <td>0</td>\n",
       "      <td>0</td>\n",
       "      <td>1</td>\n",
       "      <td>25</td>\n",
       "      <td>25</td>\n",
       "      <td>1</td>\n",
       "      <td>3.920000e-07</td>\n",
       "      <td>50.1</td>\n",
       "    </tr>\n",
       "    <tr>\n",
       "      <th>1</th>\n",
       "      <td>1</td>\n",
       "      <td>AGAP004691.R436</td>\n",
       "      <td>100.0</td>\n",
       "      <td>25</td>\n",
       "      <td>0</td>\n",
       "      <td>0</td>\n",
       "      <td>1</td>\n",
       "      <td>25</td>\n",
       "      <td>25</td>\n",
       "      <td>1</td>\n",
       "      <td>3.920000e-07</td>\n",
       "      <td>50.1</td>\n",
       "    </tr>\n",
       "    <tr>\n",
       "      <th>2</th>\n",
       "      <td>1</td>\n",
       "      <td>AGAP009303.R209</td>\n",
       "      <td>100.0</td>\n",
       "      <td>14</td>\n",
       "      <td>0</td>\n",
       "      <td>0</td>\n",
       "      <td>12</td>\n",
       "      <td>25</td>\n",
       "      <td>8733</td>\n",
       "      <td>8720</td>\n",
       "      <td>1.400000e+00</td>\n",
       "      <td>28.2</td>\n",
       "    </tr>\n",
       "    <tr>\n",
       "      <th>3</th>\n",
       "      <td>1</td>\n",
       "      <td>AGAP000898-RA</td>\n",
       "      <td>100.0</td>\n",
       "      <td>12</td>\n",
       "      <td>0</td>\n",
       "      <td>0</td>\n",
       "      <td>14</td>\n",
       "      <td>25</td>\n",
       "      <td>9840</td>\n",
       "      <td>9829</td>\n",
       "      <td>2.200000e+01</td>\n",
       "      <td>24.3</td>\n",
       "    </tr>\n",
       "    <tr>\n",
       "      <th>4</th>\n",
       "      <td>1</td>\n",
       "      <td>AGAP010249-RA</td>\n",
       "      <td>100.0</td>\n",
       "      <td>12</td>\n",
       "      <td>0</td>\n",
       "      <td>0</td>\n",
       "      <td>2</td>\n",
       "      <td>13</td>\n",
       "      <td>2401</td>\n",
       "      <td>2390</td>\n",
       "      <td>2.200000e+01</td>\n",
       "      <td>24.3</td>\n",
       "    </tr>\n",
       "  </tbody>\n",
       "</table>\n",
       "</div>"
      ],
      "text/plain": [
       "   qid           sseqid  pident  length  mismatch  gapopen  qstart  qend  \\\n",
       "0    1  AGAP004691.R437   100.0      25         0        0       1    25   \n",
       "1    1  AGAP004691.R436   100.0      25         0        0       1    25   \n",
       "2    1  AGAP009303.R209   100.0      14         0        0      12    25   \n",
       "3    1    AGAP000898-RA   100.0      12         0        0      14    25   \n",
       "4    1    AGAP010249-RA   100.0      12         0        0       2    13   \n",
       "\n",
       "   sstart  send        evalue  bitscore  \n",
       "0      25     1  3.920000e-07      50.1  \n",
       "1      25     1  3.920000e-07      50.1  \n",
       "2    8733  8720  1.400000e+00      28.2  \n",
       "3    9840  9829  2.200000e+01      24.3  \n",
       "4    2401  2390  2.200000e+01      24.3  "
      ]
     },
     "execution_count": 6,
     "metadata": {},
     "output_type": "execute_result"
    }
   ],
   "source": [
    "blast_result.head()"
   ]
  },
  {
   "cell_type": "markdown",
   "id": "82c7f9d1",
   "metadata": {},
   "source": [
    "The oligos also need to be filtered based on the GC content and the Melting Temperature. \n",
    "Default range for GC: 37-85 % & Default range for MT: 47-85 C\n",
    "These can also be adjusted in the 'filter and rank' function but is optional. \n",
    "\n",
    "Based on the BLAST results, neighbouring oligos that hit the same transcript (other than our target gene) should be filtered out. \n",
    "This is to ensure specificity of HCR probes\n",
    "\n",
    "Lastly, the neighbouring oligo pairs are ranked according to their specificity"
   ]
  },
  {
   "cell_type": "code",
   "execution_count": 7,
   "id": "fc1da0fd",
   "metadata": {},
   "outputs": [
    {
     "name": "stdout",
     "output_type": "stream",
     "text": [
      "Filtering out oligos based on GC content and Melting Temperature...\n",
      "Filtering Completed\n",
      "Filtering out oligos if adjacent oligos have hits on the same transcript...\n",
      "Fitering Completed\n",
      "Ranking oligo pairs by specificity\n",
      "Ranking Completed\n",
      "Generated number of optimized HCR probe pairs:  26\n"
     ]
    },
    {
     "name": "stderr",
     "output_type": "stream",
     "text": [
      "c:\\Users\\CTrivedi\\anaconda3\\envs\\hcr\\lib\\site-packages\\Bio\\SeqUtils\\__init__.py:144: BiopythonDeprecationWarning: GC is deprecated; please use gc_fraction instead.\n",
      "  warnings.warn(\n"
     ]
    }
   ],
   "source": [
    "probe_datasheet = filter_and_rank(ID, oligos_all, blast_result)"
   ]
  },
  {
   "cell_type": "markdown",
   "id": "a0b92009",
   "metadata": {},
   "source": [
    "View filtered results datasheet"
   ]
  },
  {
   "cell_type": "code",
   "execution_count": 8,
   "id": "702b5c22",
   "metadata": {},
   "outputs": [
    {
     "data": {
      "text/html": [
       "<div>\n",
       "<style scoped>\n",
       "    .dataframe tbody tr th:only-of-type {\n",
       "        vertical-align: middle;\n",
       "    }\n",
       "\n",
       "    .dataframe tbody tr th {\n",
       "        vertical-align: top;\n",
       "    }\n",
       "\n",
       "    .dataframe thead th {\n",
       "        text-align: right;\n",
       "    }\n",
       "</style>\n",
       "<table border=\"1\" class=\"dataframe\">\n",
       "  <thead>\n",
       "    <tr style=\"text-align: right;\">\n",
       "      <th></th>\n",
       "      <th>Oligo1_Position</th>\n",
       "      <th>Oligo2_Position</th>\n",
       "      <th>Oligo1_Sequence</th>\n",
       "      <th>Oligo2_Sequence</th>\n",
       "      <th>Score (average hits)</th>\n",
       "    </tr>\n",
       "  </thead>\n",
       "  <tbody>\n",
       "    <tr>\n",
       "      <th>0</th>\n",
       "      <td>23</td>\n",
       "      <td>24</td>\n",
       "      <td>TATCATATTCCAAAATTGCAACTAC</td>\n",
       "      <td>TGCACTAACTCCACGTCGACTTAAA</td>\n",
       "      <td>1.0</td>\n",
       "    </tr>\n",
       "    <tr>\n",
       "      <th>1</th>\n",
       "      <td>35</td>\n",
       "      <td>36</td>\n",
       "      <td>TAAATTTTGATAACTATTCGAAGCA</td>\n",
       "      <td>TGGCGTATTTGAACCAGTGCCTGGT</td>\n",
       "      <td>1.0</td>\n",
       "    </tr>\n",
       "    <tr>\n",
       "      <th>2</th>\n",
       "      <td>41</td>\n",
       "      <td>42</td>\n",
       "      <td>GACAGGGCCGTTGTATGGTCCTCCT</td>\n",
       "      <td>TGGACCTACTGCTACAGGGCCACCT</td>\n",
       "      <td>1.0</td>\n",
       "    </tr>\n",
       "    <tr>\n",
       "      <th>3</th>\n",
       "      <td>84</td>\n",
       "      <td>85</td>\n",
       "      <td>ATCTTCATCCCCAAACTCACCTCCC</td>\n",
       "      <td>GTTTTCAAGCCTAGTGATCAATCGT</td>\n",
       "      <td>1.0</td>\n",
       "    </tr>\n",
       "    <tr>\n",
       "      <th>4</th>\n",
       "      <td>89</td>\n",
       "      <td>90</td>\n",
       "      <td>TCCTCCGCTCATTGGACCTCCATCA</td>\n",
       "      <td>TCCTCGATCCACCTGCCATGAAGTA</td>\n",
       "      <td>1.0</td>\n",
       "    </tr>\n",
       "  </tbody>\n",
       "</table>\n",
       "</div>"
      ],
      "text/plain": [
       "   Oligo1_Position  Oligo2_Position            Oligo1_Sequence  \\\n",
       "0               23               24  TATCATATTCCAAAATTGCAACTAC   \n",
       "1               35               36  TAAATTTTGATAACTATTCGAAGCA   \n",
       "2               41               42  GACAGGGCCGTTGTATGGTCCTCCT   \n",
       "3               84               85  ATCTTCATCCCCAAACTCACCTCCC   \n",
       "4               89               90  TCCTCCGCTCATTGGACCTCCATCA   \n",
       "\n",
       "             Oligo2_Sequence  Score (average hits)  \n",
       "0  TGCACTAACTCCACGTCGACTTAAA                   1.0  \n",
       "1  TGGCGTATTTGAACCAGTGCCTGGT                   1.0  \n",
       "2  TGGACCTACTGCTACAGGGCCACCT                   1.0  \n",
       "3  GTTTTCAAGCCTAGTGATCAATCGT                   1.0  \n",
       "4  TCCTCGATCCACCTGCCATGAAGTA                   1.0  "
      ]
     },
     "execution_count": 8,
     "metadata": {},
     "output_type": "execute_result"
    }
   ],
   "source": [
    "probe_datasheet.head()"
   ]
  },
  {
   "cell_type": "markdown",
   "id": "123f4d71",
   "metadata": {},
   "source": [
    "Choose hairpin (B1-B5) for the selected probes to generate final HCR probe pairs"
   ]
  },
  {
   "cell_type": "code",
   "execution_count": 9,
   "id": "7fd9d37d",
   "metadata": {},
   "outputs": [
    {
     "name": "stdout",
     "output_type": "stream",
     "text": [
      "Generating HCR probes...\n",
      "HCR probes designed\n"
     ]
    }
   ],
   "source": [
    "hcr_probes = add_hairpin(probe_datasheet,'B5')"
   ]
  },
  {
   "cell_type": "markdown",
   "id": "90e77952",
   "metadata": {},
   "source": [
    "View final HCR probes"
   ]
  },
  {
   "cell_type": "code",
   "execution_count": 10,
   "id": "cc92576f",
   "metadata": {},
   "outputs": [
    {
     "data": {
      "text/html": [
       "<div>\n",
       "<style scoped>\n",
       "    .dataframe tbody tr th:only-of-type {\n",
       "        vertical-align: middle;\n",
       "    }\n",
       "\n",
       "    .dataframe tbody tr th {\n",
       "        vertical-align: top;\n",
       "    }\n",
       "\n",
       "    .dataframe thead th {\n",
       "        text-align: right;\n",
       "    }\n",
       "</style>\n",
       "<table border=\"1\" class=\"dataframe\">\n",
       "  <thead>\n",
       "    <tr style=\"text-align: right;\">\n",
       "      <th></th>\n",
       "      <th>Oligo1_Position</th>\n",
       "      <th>Oligo2_Position</th>\n",
       "      <th>Oligo1_Sequence</th>\n",
       "      <th>Oligo2_Sequence</th>\n",
       "      <th>Score (average hits)</th>\n",
       "      <th>HCRprobe1</th>\n",
       "      <th>HCRprobe2</th>\n",
       "    </tr>\n",
       "  </thead>\n",
       "  <tbody>\n",
       "    <tr>\n",
       "      <th>0</th>\n",
       "      <td>23</td>\n",
       "      <td>24</td>\n",
       "      <td>TATCATATTCCAAAATTGCAACTAC</td>\n",
       "      <td>TGCACTAACTCCACGTCGACTTAAA</td>\n",
       "      <td>1.0</td>\n",
       "      <td>CTCACTCCCAATCTCTATAATATCATATTCCAAAATTGCAACTAC</td>\n",
       "      <td>TGCACTAACTCCACGTCGACTTAAAAACTACCCTACAAATCCAAT</td>\n",
       "    </tr>\n",
       "    <tr>\n",
       "      <th>1</th>\n",
       "      <td>35</td>\n",
       "      <td>36</td>\n",
       "      <td>TAAATTTTGATAACTATTCGAAGCA</td>\n",
       "      <td>TGGCGTATTTGAACCAGTGCCTGGT</td>\n",
       "      <td>1.0</td>\n",
       "      <td>CTCACTCCCAATCTCTATAATAAATTTTGATAACTATTCGAAGCA</td>\n",
       "      <td>TGGCGTATTTGAACCAGTGCCTGGTAACTACCCTACAAATCCAAT</td>\n",
       "    </tr>\n",
       "    <tr>\n",
       "      <th>2</th>\n",
       "      <td>41</td>\n",
       "      <td>42</td>\n",
       "      <td>GACAGGGCCGTTGTATGGTCCTCCT</td>\n",
       "      <td>TGGACCTACTGCTACAGGGCCACCT</td>\n",
       "      <td>1.0</td>\n",
       "      <td>CTCACTCCCAATCTCTATAAGACAGGGCCGTTGTATGGTCCTCCT</td>\n",
       "      <td>TGGACCTACTGCTACAGGGCCACCTAACTACCCTACAAATCCAAT</td>\n",
       "    </tr>\n",
       "    <tr>\n",
       "      <th>3</th>\n",
       "      <td>84</td>\n",
       "      <td>85</td>\n",
       "      <td>ATCTTCATCCCCAAACTCACCTCCC</td>\n",
       "      <td>GTTTTCAAGCCTAGTGATCAATCGT</td>\n",
       "      <td>1.0</td>\n",
       "      <td>CTCACTCCCAATCTCTATAAATCTTCATCCCCAAACTCACCTCCC</td>\n",
       "      <td>GTTTTCAAGCCTAGTGATCAATCGTAACTACCCTACAAATCCAAT</td>\n",
       "    </tr>\n",
       "    <tr>\n",
       "      <th>4</th>\n",
       "      <td>89</td>\n",
       "      <td>90</td>\n",
       "      <td>TCCTCCGCTCATTGGACCTCCATCA</td>\n",
       "      <td>TCCTCGATCCACCTGCCATGAAGTA</td>\n",
       "      <td>1.0</td>\n",
       "      <td>CTCACTCCCAATCTCTATAATCCTCCGCTCATTGGACCTCCATCA</td>\n",
       "      <td>TCCTCGATCCACCTGCCATGAAGTAAACTACCCTACAAATCCAAT</td>\n",
       "    </tr>\n",
       "  </tbody>\n",
       "</table>\n",
       "</div>"
      ],
      "text/plain": [
       "   Oligo1_Position  Oligo2_Position            Oligo1_Sequence  \\\n",
       "0               23               24  TATCATATTCCAAAATTGCAACTAC   \n",
       "1               35               36  TAAATTTTGATAACTATTCGAAGCA   \n",
       "2               41               42  GACAGGGCCGTTGTATGGTCCTCCT   \n",
       "3               84               85  ATCTTCATCCCCAAACTCACCTCCC   \n",
       "4               89               90  TCCTCCGCTCATTGGACCTCCATCA   \n",
       "\n",
       "             Oligo2_Sequence  Score (average hits)  \\\n",
       "0  TGCACTAACTCCACGTCGACTTAAA                   1.0   \n",
       "1  TGGCGTATTTGAACCAGTGCCTGGT                   1.0   \n",
       "2  TGGACCTACTGCTACAGGGCCACCT                   1.0   \n",
       "3  GTTTTCAAGCCTAGTGATCAATCGT                   1.0   \n",
       "4  TCCTCGATCCACCTGCCATGAAGTA                   1.0   \n",
       "\n",
       "                                       HCRprobe1  \\\n",
       "0  CTCACTCCCAATCTCTATAATATCATATTCCAAAATTGCAACTAC   \n",
       "1  CTCACTCCCAATCTCTATAATAAATTTTGATAACTATTCGAAGCA   \n",
       "2  CTCACTCCCAATCTCTATAAGACAGGGCCGTTGTATGGTCCTCCT   \n",
       "3  CTCACTCCCAATCTCTATAAATCTTCATCCCCAAACTCACCTCCC   \n",
       "4  CTCACTCCCAATCTCTATAATCCTCCGCTCATTGGACCTCCATCA   \n",
       "\n",
       "                                       HCRprobe2  \n",
       "0  TGCACTAACTCCACGTCGACTTAAAAACTACCCTACAAATCCAAT  \n",
       "1  TGGCGTATTTGAACCAGTGCCTGGTAACTACCCTACAAATCCAAT  \n",
       "2  TGGACCTACTGCTACAGGGCCACCTAACTACCCTACAAATCCAAT  \n",
       "3  GTTTTCAAGCCTAGTGATCAATCGTAACTACCCTACAAATCCAAT  \n",
       "4  TCCTCGATCCACCTGCCATGAAGTAAACTACCCTACAAATCCAAT  "
      ]
     },
     "execution_count": 10,
     "metadata": {},
     "output_type": "execute_result"
    }
   ],
   "source": [
    "hcr_probes.head()"
   ]
  },
  {
   "cell_type": "markdown",
   "id": "4b7302dc",
   "metadata": {},
   "source": [
    "The hcr_probes datasheet has the following columns:\n",
    "\n",
    "'Oligo1_position' and 'Oligo2_position' columns represent the location of the oligo along the transcript\n",
    "\n",
    "'Oligo1_Sequence' and 'Oligo2_Sequence' are reverse complement oligos of the two neighbouring 25 base sequence along the transcript\n",
    "\n",
    "'Score (avg hits)' represents how many other transcripts on average could partially bind to one of the two oligos, but not both. Lower the score, higher the specificity of the probe pair\n",
    "\n",
    "'HCRprobe1' and 'HCRprobe2' are the final hairpin appended oligos that should be ordered as ssDNA."
   ]
  },
  {
   "cell_type": "code",
   "execution_count": null,
   "id": "d36526be",
   "metadata": {},
   "outputs": [],
   "source": [
    "hcr_probes.to_csv('test_gene_HCRprobes_B1.csv')"
   ]
  }
 ],
 "metadata": {
  "kernelspec": {
   "display_name": "hcr",
   "language": "python",
   "name": "python3"
  },
  "language_info": {
   "codemirror_mode": {
    "name": "ipython",
    "version": 3
   },
   "file_extension": ".py",
   "mimetype": "text/x-python",
   "name": "python",
   "nbconvert_exporter": "python",
   "pygments_lexer": "ipython3",
   "version": "3.10.0"
  }
 },
 "nbformat": 4,
 "nbformat_minor": 5
}
